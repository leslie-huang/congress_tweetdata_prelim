{
 "cells": [
  {
   "cell_type": "code",
   "execution_count": 141,
   "metadata": {},
   "outputs": [],
   "source": [
    "import json\n",
    "import os\n",
    "import pandas as pd\n",
    "from pandas.io.json import json_normalize\n",
    "from sqlalchemy import create_engine\n",
    "from sqlalchemy.orm import sessionmaker\n",
    "from typing import List\n",
    "\n",
    "# Setup sql\n",
    "engine = create_engine(\"sqlite:///classification_unfiltered.db\")\n",
    "\n",
    "session = sessionmaker()\n",
    "session.configure(bind=engine)\n",
    "s = session()\n",
    "\n",
    "dirname = \"../congresstweets/data\""
   ]
  },
  {
   "cell_type": "markdown",
   "metadata": {},
   "source": [
    "# First create tweets table of unique tweets"
   ]
  },
  {
   "cell_type": "code",
   "execution_count": 74,
   "metadata": {},
   "outputs": [
    {
     "data": {
      "text/plain": [
       "<sqlalchemy.engine.result.ResultProxy at 0x106896490>"
      ]
     },
     "execution_count": 74,
     "metadata": {},
     "output_type": "execute_result"
    }
   ],
   "source": [
    "engine.execute(\n",
    "    \"CREATE TABLE IF NOT EXISTS tweets(id TEXT PRIMARY KEY, text TEXT, screen_name TEXT, user_id TEXT)\"\n",
    ")"
   ]
  },
  {
   "cell_type": "code",
   "execution_count": 75,
   "metadata": {},
   "outputs": [],
   "source": [
    "# tweets table\n",
    "for fname in [f for f in os.listdir(dirname) if f.endswith(\"json\")]:\n",
    "    temp_df = (\n",
    "        pd.read_json(os.path.join(dirname, fname))\n",
    "        .dropna()\n",
    "        .replace(\"\\n\", \" \", regex=True)\n",
    "    )\n",
    "\n",
    "    temp_df[[\"id\", \"text\", \"screen_name\", \"user_id\"]].to_sql(\n",
    "        \"temp_table\",\n",
    "        con=engine,\n",
    "        index=False,\n",
    "        index_label=\"id\",\n",
    "        if_exists=\"replace\",\n",
    "        chunksize=1000,\n",
    "    )\n",
    "\n",
    "    del temp_df\n",
    "    \n",
    "    insert_into_sql = \"INSERT OR IGNORE INTO tweets SELECT * FROM temp_table\"\n",
    "    engine.execute(insert_into_sql)\n",
    "\n",
    "s.commit()"
   ]
  },
  {
   "cell_type": "markdown",
   "metadata": {},
   "source": [
    "# now get the screen names from the tweets table and figure out who they belong to\n"
   ]
  },
  {
   "cell_type": "code",
   "execution_count": 142,
   "metadata": {},
   "outputs": [],
   "source": [
    "result = engine.execute(\n",
    "    \"SELECT screen_name, COUNT(*) from tweets GROUP BY screen_name\")"
   ]
  },
  {
   "cell_type": "code",
   "execution_count": 143,
   "metadata": {},
   "outputs": [],
   "source": [
    "screen_names = []\n",
    "counts = []\n",
    "\n",
    "for r in result:\n",
    "    screen_names.append(r[0])\n",
    "    counts.append(r[1])"
   ]
  },
  {
   "cell_type": "code",
   "execution_count": 144,
   "metadata": {},
   "outputs": [
    {
     "data": {
      "text/plain": [
       "1431"
      ]
     },
     "execution_count": 144,
     "metadata": {},
     "output_type": "execute_result"
    }
   ],
   "source": [
    "len(screen_names)"
   ]
  },
  {
   "cell_type": "code",
   "execution_count": 145,
   "metadata": {},
   "outputs": [
    {
     "data": {
      "text/plain": [
       "['ABrindisiNY',\n",
       " 'AOC',\n",
       " 'ASEANCaucus',\n",
       " 'Abby4Iowa',\n",
       " 'AdamKinzinger',\n",
       " 'AdamSchiff',\n",
       " 'AdamSchiffCA',\n",
       " 'AlLawsonJr',\n",
       " 'AlbioSiresNJ',\n",
       " 'AlmaforCongress']"
      ]
     },
     "execution_count": 145,
     "metadata": {},
     "output_type": "execute_result"
    }
   ],
   "source": [
    "screen_names[:10]"
   ]
  },
  {
   "cell_type": "markdown",
   "metadata": {},
   "source": [
    "# Load the metadata"
   ]
  },
  {
   "cell_type": "code",
   "execution_count": 79,
   "metadata": {},
   "outputs": [],
   "source": [
    "def extract_legis_metadata(fn: str) -> pd.DataFrame:\n",
    "    with open(fn, \"r\") as f:\n",
    "        dat = json.load(f)\n",
    "    df = json_normalize(dat)\n",
    "\n",
    "    # fix ridiculous nested dict/list/idct\n",
    "    # \"terms\" column contains dicts, break em out!\n",
    "    # we are taking the LAST (MOST RECENT) term for everyone\n",
    "    terms = pd.DataFrame([i[-1] for i in df.terms.tolist()])\n",
    "    terms = terms[[\"type\", \"state\", \"party\"]]\n",
    "\n",
    "    df = pd.concat([df, terms], axis=1)[[\"id.bioguide\", \"type\", \"state\", \"party\"]]\n",
    "    df.columns = [\"id_bioguide\", \"type\", \"state\", \"party\"]\n",
    "\n",
    "    return df"
   ]
  },
  {
   "cell_type": "code",
   "execution_count": 80,
   "metadata": {},
   "outputs": [],
   "source": [
    "# get social media handle - legislator mapping\n",
    "with open(\"legislators-social-media.json\", \"r\") as f:\n",
    "    sm_data = json.load(f)\n",
    "    \n",
    "legislator_sm_df = json_normalize(sm_data)[\n",
    "    [\"id.bioguide\", \"social.twitter_id\", \"social.twitter\"]\n",
    "]\n",
    "legislator_sm_df.columns = [\"id_bioguide\", \"twitter_id\", \"twitter_screenname\"]\n",
    "\n",
    "# needs to be str because the numbers are too large\n",
    "legislator_sm_df[\"twitter_id\"] = legislator_sm_df[\"twitter_id\"].astype(str)\n",
    "\n",
    "# need to lowercase for matching\n",
    "legislator_sm_df[\"twitter_screenname\"] = legislator_sm_df[\n",
    "    \"twitter_screenname\"\n",
    "].str.lower()"
   ]
  },
  {
   "cell_type": "code",
   "execution_count": 81,
   "metadata": {},
   "outputs": [
    {
     "data": {
      "text/html": [
       "<div>\n",
       "<style scoped>\n",
       "    .dataframe tbody tr th:only-of-type {\n",
       "        vertical-align: middle;\n",
       "    }\n",
       "\n",
       "    .dataframe tbody tr th {\n",
       "        vertical-align: top;\n",
       "    }\n",
       "\n",
       "    .dataframe thead th {\n",
       "        text-align: right;\n",
       "    }\n",
       "</style>\n",
       "<table border=\"1\" class=\"dataframe\">\n",
       "  <thead>\n",
       "    <tr style=\"text-align: right;\">\n",
       "      <th></th>\n",
       "      <th>id_bioguide</th>\n",
       "      <th>twitter_id</th>\n",
       "      <th>twitter_screenname</th>\n",
       "    </tr>\n",
       "  </thead>\n",
       "  <tbody>\n",
       "    <tr>\n",
       "      <th>0</th>\n",
       "      <td>R000600</td>\n",
       "      <td>3026622545</td>\n",
       "      <td>repamata</td>\n",
       "    </tr>\n",
       "    <tr>\n",
       "      <th>1</th>\n",
       "      <td>Y000064</td>\n",
       "      <td>234128524</td>\n",
       "      <td>sentoddyoung</td>\n",
       "    </tr>\n",
       "    <tr>\n",
       "      <th>2</th>\n",
       "      <td>E000295</td>\n",
       "      <td>2856787757</td>\n",
       "      <td>senjoniernst</td>\n",
       "    </tr>\n",
       "    <tr>\n",
       "      <th>3</th>\n",
       "      <td>T000476</td>\n",
       "      <td>2964174789</td>\n",
       "      <td>senthomtillis</td>\n",
       "    </tr>\n",
       "    <tr>\n",
       "      <th>4</th>\n",
       "      <td>Y000062</td>\n",
       "      <td>384913290</td>\n",
       "      <td>repjohnyarmuth</td>\n",
       "    </tr>\n",
       "  </tbody>\n",
       "</table>\n",
       "</div>"
      ],
      "text/plain": [
       "  id_bioguide  twitter_id twitter_screenname\n",
       "0     R000600  3026622545           repamata\n",
       "1     Y000064   234128524       sentoddyoung\n",
       "2     E000295  2856787757       senjoniernst\n",
       "3     T000476  2964174789      senthomtillis\n",
       "4     Y000062   384913290     repjohnyarmuth"
      ]
     },
     "execution_count": 81,
     "metadata": {},
     "output_type": "execute_result"
    }
   ],
   "source": [
    "legislator_sm_df.head()"
   ]
  },
  {
   "cell_type": "code",
   "execution_count": 82,
   "metadata": {},
   "outputs": [
    {
     "data": {
      "text/plain": [
       "(532, 3)"
      ]
     },
     "execution_count": 82,
     "metadata": {},
     "output_type": "execute_result"
    }
   ],
   "source": [
    "legislator_sm_df.shape"
   ]
  },
  {
   "cell_type": "code",
   "execution_count": 83,
   "metadata": {},
   "outputs": [
    {
     "data": {
      "text/html": [
       "<div>\n",
       "<style scoped>\n",
       "    .dataframe tbody tr th:only-of-type {\n",
       "        vertical-align: middle;\n",
       "    }\n",
       "\n",
       "    .dataframe tbody tr th {\n",
       "        vertical-align: top;\n",
       "    }\n",
       "\n",
       "    .dataframe thead th {\n",
       "        text-align: right;\n",
       "    }\n",
       "</style>\n",
       "<table border=\"1\" class=\"dataframe\">\n",
       "  <thead>\n",
       "    <tr style=\"text-align: right;\">\n",
       "      <th></th>\n",
       "      <th>id_bioguide</th>\n",
       "      <th>twitter_id</th>\n",
       "      <th>twitter_screenname</th>\n",
       "    </tr>\n",
       "  </thead>\n",
       "  <tbody>\n",
       "    <tr>\n",
       "      <th>209</th>\n",
       "      <td>C001049</td>\n",
       "      <td>nan</td>\n",
       "      <td>NaN</td>\n",
       "    </tr>\n",
       "    <tr>\n",
       "      <th>239</th>\n",
       "      <td>A000367</td>\n",
       "      <td>nan</td>\n",
       "      <td>NaN</td>\n",
       "    </tr>\n",
       "    <tr>\n",
       "      <th>310</th>\n",
       "      <td>K000384</td>\n",
       "      <td>nan</td>\n",
       "      <td>NaN</td>\n",
       "    </tr>\n",
       "    <tr>\n",
       "      <th>412</th>\n",
       "      <td>C001108</td>\n",
       "      <td>nan</td>\n",
       "      <td>NaN</td>\n",
       "    </tr>\n",
       "    <tr>\n",
       "      <th>431</th>\n",
       "      <td>G000584</td>\n",
       "      <td>nan</td>\n",
       "      <td>NaN</td>\n",
       "    </tr>\n",
       "  </tbody>\n",
       "</table>\n",
       "</div>"
      ],
      "text/plain": [
       "    id_bioguide twitter_id twitter_screenname\n",
       "209     C001049        nan                NaN\n",
       "239     A000367        nan                NaN\n",
       "310     K000384        nan                NaN\n",
       "412     C001108        nan                NaN\n",
       "431     G000584        nan                NaN"
      ]
     },
     "execution_count": 83,
     "metadata": {},
     "output_type": "execute_result"
    }
   ],
   "source": [
    "legislator_sm_df[legislator_sm_df.isnull().any(axis=1)]"
   ]
  },
  {
   "cell_type": "code",
   "execution_count": 84,
   "metadata": {},
   "outputs": [],
   "source": [
    "# get legislator - party mapping\n",
    "current_legis = extract_legis_metadata(\"legislators-current.json\")\n",
    "historical_legis = extract_legis_metadata(\n",
    "    \"legislators-historical.json\"\n",
    ")"
   ]
  },
  {
   "cell_type": "code",
   "execution_count": 85,
   "metadata": {},
   "outputs": [
    {
     "data": {
      "text/html": [
       "<div>\n",
       "<style scoped>\n",
       "    .dataframe tbody tr th:only-of-type {\n",
       "        vertical-align: middle;\n",
       "    }\n",
       "\n",
       "    .dataframe tbody tr th {\n",
       "        vertical-align: top;\n",
       "    }\n",
       "\n",
       "    .dataframe thead th {\n",
       "        text-align: right;\n",
       "    }\n",
       "</style>\n",
       "<table border=\"1\" class=\"dataframe\">\n",
       "  <thead>\n",
       "    <tr style=\"text-align: right;\">\n",
       "      <th></th>\n",
       "      <th>id_bioguide</th>\n",
       "      <th>type</th>\n",
       "      <th>state</th>\n",
       "      <th>party</th>\n",
       "    </tr>\n",
       "  </thead>\n",
       "  <tbody>\n",
       "    <tr>\n",
       "      <th>530</th>\n",
       "      <td>G000592</td>\n",
       "      <td>rep</td>\n",
       "      <td>ME</td>\n",
       "      <td>Democrat</td>\n",
       "    </tr>\n",
       "    <tr>\n",
       "      <th>531</th>\n",
       "      <td>K000395</td>\n",
       "      <td>rep</td>\n",
       "      <td>PA</td>\n",
       "      <td>Republican</td>\n",
       "    </tr>\n",
       "    <tr>\n",
       "      <th>532</th>\n",
       "      <td>B001311</td>\n",
       "      <td>rep</td>\n",
       "      <td>NC</td>\n",
       "      <td>Republican</td>\n",
       "    </tr>\n",
       "    <tr>\n",
       "      <th>533</th>\n",
       "      <td>M001210</td>\n",
       "      <td>rep</td>\n",
       "      <td>NC</td>\n",
       "      <td>Republican</td>\n",
       "    </tr>\n",
       "    <tr>\n",
       "      <th>534</th>\n",
       "      <td>L000594</td>\n",
       "      <td>sen</td>\n",
       "      <td>GA</td>\n",
       "      <td>Republican</td>\n",
       "    </tr>\n",
       "  </tbody>\n",
       "</table>\n",
       "</div>"
      ],
      "text/plain": [
       "    id_bioguide type state       party\n",
       "530     G000592  rep    ME    Democrat\n",
       "531     K000395  rep    PA  Republican\n",
       "532     B001311  rep    NC  Republican\n",
       "533     M001210  rep    NC  Republican\n",
       "534     L000594  sen    GA  Republican"
      ]
     },
     "execution_count": 85,
     "metadata": {},
     "output_type": "execute_result"
    }
   ],
   "source": [
    "current_legis.tail()"
   ]
  },
  {
   "cell_type": "code",
   "execution_count": 86,
   "metadata": {},
   "outputs": [
    {
     "data": {
      "text/html": [
       "<div>\n",
       "<style scoped>\n",
       "    .dataframe tbody tr th:only-of-type {\n",
       "        vertical-align: middle;\n",
       "    }\n",
       "\n",
       "    .dataframe tbody tr th {\n",
       "        vertical-align: top;\n",
       "    }\n",
       "\n",
       "    .dataframe thead th {\n",
       "        text-align: right;\n",
       "    }\n",
       "</style>\n",
       "<table border=\"1\" class=\"dataframe\">\n",
       "  <thead>\n",
       "    <tr style=\"text-align: right;\">\n",
       "      <th></th>\n",
       "      <th>id_bioguide</th>\n",
       "      <th>type</th>\n",
       "      <th>state</th>\n",
       "      <th>party</th>\n",
       "    </tr>\n",
       "  </thead>\n",
       "  <tbody>\n",
       "    <tr>\n",
       "      <th>11977</th>\n",
       "      <td>C000984</td>\n",
       "      <td>rep</td>\n",
       "      <td>MD</td>\n",
       "      <td>Democrat</td>\n",
       "    </tr>\n",
       "    <tr>\n",
       "      <th>11978</th>\n",
       "      <td>H001087</td>\n",
       "      <td>rep</td>\n",
       "      <td>CA</td>\n",
       "      <td>Democrat</td>\n",
       "    </tr>\n",
       "    <tr>\n",
       "      <th>11979</th>\n",
       "      <td>I000055</td>\n",
       "      <td>sen</td>\n",
       "      <td>GA</td>\n",
       "      <td>Republican</td>\n",
       "    </tr>\n",
       "    <tr>\n",
       "      <th>11980</th>\n",
       "      <td>H001048</td>\n",
       "      <td>rep</td>\n",
       "      <td>CA</td>\n",
       "      <td>Republican</td>\n",
       "    </tr>\n",
       "    <tr>\n",
       "      <th>11981</th>\n",
       "      <td>M001187</td>\n",
       "      <td>rep</td>\n",
       "      <td>NC</td>\n",
       "      <td>Republican</td>\n",
       "    </tr>\n",
       "  </tbody>\n",
       "</table>\n",
       "</div>"
      ],
      "text/plain": [
       "      id_bioguide type state       party\n",
       "11977     C000984  rep    MD    Democrat\n",
       "11978     H001087  rep    CA    Democrat\n",
       "11979     I000055  sen    GA  Republican\n",
       "11980     H001048  rep    CA  Republican\n",
       "11981     M001187  rep    NC  Republican"
      ]
     },
     "execution_count": 86,
     "metadata": {},
     "output_type": "execute_result"
    }
   ],
   "source": [
    "historical_legis.tail()"
   ]
  },
  {
   "cell_type": "code",
   "execution_count": 87,
   "metadata": {},
   "outputs": [
    {
     "data": {
      "text/html": [
       "<div>\n",
       "<style scoped>\n",
       "    .dataframe tbody tr th:only-of-type {\n",
       "        vertical-align: middle;\n",
       "    }\n",
       "\n",
       "    .dataframe tbody tr th {\n",
       "        vertical-align: top;\n",
       "    }\n",
       "\n",
       "    .dataframe thead th {\n",
       "        text-align: right;\n",
       "    }\n",
       "</style>\n",
       "<table border=\"1\" class=\"dataframe\">\n",
       "  <thead>\n",
       "    <tr style=\"text-align: right;\">\n",
       "      <th></th>\n",
       "      <th>id_bioguide</th>\n",
       "      <th>type</th>\n",
       "      <th>state</th>\n",
       "      <th>party</th>\n",
       "    </tr>\n",
       "  </thead>\n",
       "  <tbody>\n",
       "  </tbody>\n",
       "</table>\n",
       "</div>"
      ],
      "text/plain": [
       "Empty DataFrame\n",
       "Columns: [id_bioguide, type, state, party]\n",
       "Index: []"
      ]
     },
     "execution_count": 87,
     "metadata": {},
     "output_type": "execute_result"
    }
   ],
   "source": [
    "current_legis[current_legis.isnull().any(axis=1)] # no nulls here"
   ]
  },
  {
   "cell_type": "code",
   "execution_count": 88,
   "metadata": {},
   "outputs": [
    {
     "data": {
      "text/plain": [
       "(234, 4)"
      ]
     },
     "execution_count": 88,
     "metadata": {},
     "output_type": "execute_result"
    }
   ],
   "source": [
    "historical_legis[historical_legis.isnull().any(axis=1)].shape"
   ]
  },
  {
   "cell_type": "code",
   "execution_count": 89,
   "metadata": {},
   "outputs": [
    {
     "data": {
      "text/plain": [
       "set()"
      ]
     },
     "execution_count": 89,
     "metadata": {},
     "output_type": "execute_result"
    }
   ],
   "source": [
    "# is there overlap?\n",
    "\n",
    "set(current_legis.id_bioguide.unique().tolist()).intersection(\n",
    "set(historical_legis.id_bioguide.unique().tolist())\n",
    ")"
   ]
  },
  {
   "cell_type": "code",
   "execution_count": 90,
   "metadata": {},
   "outputs": [],
   "source": [
    "# combine legislator metadata\n",
    "all_legislators_metadata_df = pd.concat([current_legis, historical_legis])"
   ]
  },
  {
   "cell_type": "code",
   "execution_count": 91,
   "metadata": {},
   "outputs": [],
   "source": [
    "# join in order to add state/party metadata to social media df\n",
    "\n",
    "combined_metadata = legislator_sm_df.merge(\n",
    "    all_legislators_metadata_df,\n",
    "    how=\"left\",\n",
    "    left_on=\"id_bioguide\",\n",
    "    right_on=\"id_bioguide\",\n",
    ")\n"
   ]
  },
  {
   "cell_type": "code",
   "execution_count": 92,
   "metadata": {},
   "outputs": [
    {
     "data": {
      "text/plain": [
       "(532, 6)"
      ]
     },
     "execution_count": 92,
     "metadata": {},
     "output_type": "execute_result"
    }
   ],
   "source": [
    "combined_metadata.shape"
   ]
  },
  {
   "cell_type": "code",
   "execution_count": 93,
   "metadata": {},
   "outputs": [
    {
     "data": {
      "text/html": [
       "<div>\n",
       "<style scoped>\n",
       "    .dataframe tbody tr th:only-of-type {\n",
       "        vertical-align: middle;\n",
       "    }\n",
       "\n",
       "    .dataframe tbody tr th {\n",
       "        vertical-align: top;\n",
       "    }\n",
       "\n",
       "    .dataframe thead th {\n",
       "        text-align: right;\n",
       "    }\n",
       "</style>\n",
       "<table border=\"1\" class=\"dataframe\">\n",
       "  <thead>\n",
       "    <tr style=\"text-align: right;\">\n",
       "      <th></th>\n",
       "      <th>id_bioguide</th>\n",
       "      <th>twitter_id</th>\n",
       "      <th>twitter_screenname</th>\n",
       "      <th>type</th>\n",
       "      <th>state</th>\n",
       "      <th>party</th>\n",
       "    </tr>\n",
       "  </thead>\n",
       "  <tbody>\n",
       "    <tr>\n",
       "      <th>527</th>\n",
       "      <td>H001089</td>\n",
       "      <td>1080960924687704064</td>\n",
       "      <td>senhawleypress</td>\n",
       "      <td>sen</td>\n",
       "      <td>MO</td>\n",
       "      <td>Republican</td>\n",
       "    </tr>\n",
       "    <tr>\n",
       "      <th>528</th>\n",
       "      <td>V000133</td>\n",
       "      <td>1083469084648505344</td>\n",
       "      <td>congressmanjvd</td>\n",
       "      <td>rep</td>\n",
       "      <td>NJ</td>\n",
       "      <td>Republican</td>\n",
       "    </tr>\n",
       "    <tr>\n",
       "      <th>529</th>\n",
       "      <td>K000395</td>\n",
       "      <td>1136060761422405633</td>\n",
       "      <td>repfredkeller</td>\n",
       "      <td>rep</td>\n",
       "      <td>PA</td>\n",
       "      <td>Republican</td>\n",
       "    </tr>\n",
       "    <tr>\n",
       "      <th>530</th>\n",
       "      <td>S001204</td>\n",
       "      <td>346509049</td>\n",
       "      <td>guamcongressman</td>\n",
       "      <td>rep</td>\n",
       "      <td>GU</td>\n",
       "      <td>Democrat</td>\n",
       "    </tr>\n",
       "    <tr>\n",
       "      <th>531</th>\n",
       "      <td>L000594</td>\n",
       "      <td>1200451909406121984</td>\n",
       "      <td>senatorloeffler</td>\n",
       "      <td>sen</td>\n",
       "      <td>GA</td>\n",
       "      <td>Republican</td>\n",
       "    </tr>\n",
       "  </tbody>\n",
       "</table>\n",
       "</div>"
      ],
      "text/plain": [
       "    id_bioguide           twitter_id twitter_screenname type state       party\n",
       "527     H001089  1080960924687704064     senhawleypress  sen    MO  Republican\n",
       "528     V000133  1083469084648505344     congressmanjvd  rep    NJ  Republican\n",
       "529     K000395  1136060761422405633      repfredkeller  rep    PA  Republican\n",
       "530     S001204            346509049    guamcongressman  rep    GU    Democrat\n",
       "531     L000594  1200451909406121984    senatorloeffler  sen    GA  Republican"
      ]
     },
     "execution_count": 93,
     "metadata": {},
     "output_type": "execute_result"
    }
   ],
   "source": [
    "combined_metadata.tail()"
   ]
  },
  {
   "cell_type": "code",
   "execution_count": 94,
   "metadata": {
    "scrolled": true
   },
   "outputs": [
    {
     "data": {
      "text/html": [
       "<div>\n",
       "<style scoped>\n",
       "    .dataframe tbody tr th:only-of-type {\n",
       "        vertical-align: middle;\n",
       "    }\n",
       "\n",
       "    .dataframe tbody tr th {\n",
       "        vertical-align: top;\n",
       "    }\n",
       "\n",
       "    .dataframe thead th {\n",
       "        text-align: right;\n",
       "    }\n",
       "</style>\n",
       "<table border=\"1\" class=\"dataframe\">\n",
       "  <thead>\n",
       "    <tr style=\"text-align: right;\">\n",
       "      <th></th>\n",
       "      <th>id_bioguide</th>\n",
       "      <th>twitter_id</th>\n",
       "      <th>twitter_screenname</th>\n",
       "      <th>type</th>\n",
       "      <th>state</th>\n",
       "      <th>party</th>\n",
       "    </tr>\n",
       "  </thead>\n",
       "  <tbody>\n",
       "    <tr>\n",
       "      <th>209</th>\n",
       "      <td>C001049</td>\n",
       "      <td>nan</td>\n",
       "      <td>NaN</td>\n",
       "      <td>rep</td>\n",
       "      <td>MO</td>\n",
       "      <td>Democrat</td>\n",
       "    </tr>\n",
       "    <tr>\n",
       "      <th>239</th>\n",
       "      <td>A000367</td>\n",
       "      <td>nan</td>\n",
       "      <td>NaN</td>\n",
       "      <td>rep</td>\n",
       "      <td>MI</td>\n",
       "      <td>Independent</td>\n",
       "    </tr>\n",
       "    <tr>\n",
       "      <th>310</th>\n",
       "      <td>K000384</td>\n",
       "      <td>nan</td>\n",
       "      <td>NaN</td>\n",
       "      <td>sen</td>\n",
       "      <td>VA</td>\n",
       "      <td>Democrat</td>\n",
       "    </tr>\n",
       "    <tr>\n",
       "      <th>412</th>\n",
       "      <td>C001108</td>\n",
       "      <td>nan</td>\n",
       "      <td>NaN</td>\n",
       "      <td>rep</td>\n",
       "      <td>KY</td>\n",
       "      <td>Republican</td>\n",
       "    </tr>\n",
       "    <tr>\n",
       "      <th>431</th>\n",
       "      <td>G000584</td>\n",
       "      <td>nan</td>\n",
       "      <td>NaN</td>\n",
       "      <td>rep</td>\n",
       "      <td>MT</td>\n",
       "      <td>Republican</td>\n",
       "    </tr>\n",
       "  </tbody>\n",
       "</table>\n",
       "</div>"
      ],
      "text/plain": [
       "    id_bioguide twitter_id twitter_screenname type state        party\n",
       "209     C001049        nan                NaN  rep    MO     Democrat\n",
       "239     A000367        nan                NaN  rep    MI  Independent\n",
       "310     K000384        nan                NaN  sen    VA     Democrat\n",
       "412     C001108        nan                NaN  rep    KY   Republican\n",
       "431     G000584        nan                NaN  rep    MT   Republican"
      ]
     },
     "execution_count": 94,
     "metadata": {},
     "output_type": "execute_result"
    }
   ],
   "source": [
    "# where do we have missing data?\n",
    "\n",
    "combined_metadata[combined_metadata.isnull().any(axis=1)]"
   ]
  },
  {
   "cell_type": "code",
   "execution_count": 95,
   "metadata": {},
   "outputs": [
    {
     "data": {
      "text/plain": [
       "(527, 6)"
      ]
     },
     "execution_count": 95,
     "metadata": {},
     "output_type": "execute_result"
    }
   ],
   "source": [
    "combined_metadata[~combined_metadata.isnull().any(axis=1)].shape"
   ]
  },
  {
   "cell_type": "code",
   "execution_count": 96,
   "metadata": {},
   "outputs": [
    {
     "name": "stdout",
     "output_type": "stream",
     "text": [
      "combined_metadata before dropping NAs (532, 6)\n",
      "combined_metadata after dropping NAs (527, 6)\n"
     ]
    }
   ],
   "source": [
    "print(f\"combined_metadata before dropping NAs {combined_metadata.shape}\")\n",
    "\n",
    "combined_metadata.dropna(inplace=True)  # drop anyone with incomplete metadata\n",
    "\n",
    "print(f\"combined_metadata after dropping NAs {combined_metadata.shape}\")\n"
   ]
  },
  {
   "cell_type": "code",
   "execution_count": null,
   "metadata": {},
   "outputs": [],
   "source": []
  },
  {
   "cell_type": "markdown",
   "metadata": {},
   "source": [
    "# Match this metadata with the list of screen names from the tweets table"
   ]
  },
  {
   "cell_type": "code",
   "execution_count": 146,
   "metadata": {},
   "outputs": [],
   "source": [
    "tweet_authors = pd.DataFrame({\"screen_name\": [s.lower() for s in sorted(screen_names)],\n",
    "                             \"count\": counts})"
   ]
  },
  {
   "cell_type": "code",
   "execution_count": 153,
   "metadata": {},
   "outputs": [],
   "source": [
    "df = tweet_authors.merge(combined_metadata,\n",
    "                        how = \"left\",\n",
    "                        left_on = \"screen_name\",\n",
    "                        right_on = \"twitter_screenname\")"
   ]
  },
  {
   "cell_type": "code",
   "execution_count": 154,
   "metadata": {},
   "outputs": [],
   "source": [
    "df[df[\"party\"].isnull()].to_csv(\"missing_metadata.csv\")"
   ]
  },
  {
   "cell_type": "code",
   "execution_count": 155,
   "metadata": {},
   "outputs": [
    {
     "data": {
      "text/plain": [
       "(529, 8)"
      ]
     },
     "execution_count": 155,
     "metadata": {},
     "output_type": "execute_result"
    }
   ],
   "source": [
    "df[~df[\"party\"].isnull()].shape"
   ]
  },
  {
   "cell_type": "markdown",
   "metadata": {},
   "source": [
    "# then...we filled in the missing metadata manually"
   ]
  }
 ],
 "metadata": {
  "kernelspec": {
   "display_name": "Python 3",
   "language": "python",
   "name": "python3"
  },
  "language_info": {
   "codemirror_mode": {
    "name": "ipython",
    "version": 3
   },
   "file_extension": ".py",
   "mimetype": "text/x-python",
   "name": "python",
   "nbconvert_exporter": "python",
   "pygments_lexer": "ipython3",
   "version": "3.7.7"
  }
 },
 "nbformat": 4,
 "nbformat_minor": 2
}
