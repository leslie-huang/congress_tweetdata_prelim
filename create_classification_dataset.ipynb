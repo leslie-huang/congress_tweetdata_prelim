{
 "cells": [
  {
   "cell_type": "code",
   "execution_count": 1,
   "metadata": {},
   "outputs": [],
   "source": [
    "import json\n",
    "import os\n",
    "import pandas as pd\n",
    "from pandas.io.json import json_normalize\n",
    "from sqlalchemy import create_engine\n",
    "from sqlalchemy.orm import sessionmaker\n",
    "from typing import List\n",
    "\n",
    "# Setup sql\n",
    "engine = create_engine(\"sqlite:///classification_final.db\")\n",
    "\n",
    "session = sessionmaker()\n",
    "session.configure(bind=engine)\n",
    "s = session()\n",
    "\n",
    "dirname = \"../congresstweets/data\""
   ]
  },
  {
   "cell_type": "markdown",
   "metadata": {},
   "source": [
    "# First create tweets table of unique tweets"
   ]
  },
  {
   "cell_type": "code",
   "execution_count": 2,
   "metadata": {},
   "outputs": [
    {
     "data": {
      "text/plain": [
       "<sqlalchemy.engine.result.ResultProxy at 0x1100c6510>"
      ]
     },
     "execution_count": 2,
     "metadata": {},
     "output_type": "execute_result"
    }
   ],
   "source": [
    "engine.execute(\n",
    "    \"CREATE TABLE IF NOT EXISTS tweets(id TEXT PRIMARY KEY, text TEXT, screen_name TEXT, user_id TEXT, label INT, is_official INT)\"\n",
    ")"
   ]
  },
  {
   "cell_type": "markdown",
   "metadata": {},
   "source": [
    "# Load the metadata"
   ]
  },
  {
   "cell_type": "code",
   "execution_count": 3,
   "metadata": {},
   "outputs": [],
   "source": [
    "def extract_legis_metadata(fn: str) -> pd.DataFrame:\n",
    "    with open(fn, \"r\") as f:\n",
    "        dat = json.load(f)\n",
    "    df = json_normalize(dat)\n",
    "\n",
    "    # fix ridiculous nested dict/list/idct\n",
    "    # \"terms\" column contains dicts, break em out!\n",
    "    # we are taking the LAST (MOST RECENT) term for everyone\n",
    "    terms = pd.DataFrame([i[-1] for i in df.terms.tolist()])\n",
    "    terms = terms[[\"type\", \"state\", \"party\"]]\n",
    "\n",
    "    df = pd.concat([df, terms], axis=1)[[\"id.bioguide\", \"type\", \"state\", \"party\"]]\n",
    "    df.columns = [\"id_bioguide\", \"type\", \"state\", \"party\"]\n",
    "\n",
    "    return df"
   ]
  },
  {
   "cell_type": "code",
   "execution_count": 4,
   "metadata": {},
   "outputs": [],
   "source": [
    "# get social media handle - legislator mapping\n",
    "with open(\"legislators-social-media.json\", \"r\") as f:\n",
    "    sm_data = json.load(f)\n",
    "    \n",
    "legislator_sm_df = json_normalize(sm_data)[\n",
    "    [\"id.bioguide\", \"social.twitter_id\", \"social.twitter\"]\n",
    "]\n",
    "legislator_sm_df.columns = [\"id_bioguide\", \"twitter_id\", \"twitter_screenname\"]\n",
    "\n",
    "# needs to be str because the numbers are too large\n",
    "legislator_sm_df[\"twitter_id\"] = legislator_sm_df[\"twitter_id\"].astype(str)\n",
    "\n",
    "# need to lowercase for matching\n",
    "legislator_sm_df[\"twitter_screenname\"] = legislator_sm_df[\n",
    "    \"twitter_screenname\"\n",
    "].str.lower()"
   ]
  },
  {
   "cell_type": "code",
   "execution_count": 5,
   "metadata": {},
   "outputs": [
    {
     "data": {
      "text/html": [
       "<div>\n",
       "<style scoped>\n",
       "    .dataframe tbody tr th:only-of-type {\n",
       "        vertical-align: middle;\n",
       "    }\n",
       "\n",
       "    .dataframe tbody tr th {\n",
       "        vertical-align: top;\n",
       "    }\n",
       "\n",
       "    .dataframe thead th {\n",
       "        text-align: right;\n",
       "    }\n",
       "</style>\n",
       "<table border=\"1\" class=\"dataframe\">\n",
       "  <thead>\n",
       "    <tr style=\"text-align: right;\">\n",
       "      <th></th>\n",
       "      <th>id_bioguide</th>\n",
       "      <th>twitter_id</th>\n",
       "      <th>twitter_screenname</th>\n",
       "    </tr>\n",
       "  </thead>\n",
       "  <tbody>\n",
       "    <tr>\n",
       "      <th>0</th>\n",
       "      <td>R000600</td>\n",
       "      <td>3026622545</td>\n",
       "      <td>repamata</td>\n",
       "    </tr>\n",
       "    <tr>\n",
       "      <th>1</th>\n",
       "      <td>Y000064</td>\n",
       "      <td>234128524</td>\n",
       "      <td>sentoddyoung</td>\n",
       "    </tr>\n",
       "    <tr>\n",
       "      <th>2</th>\n",
       "      <td>E000295</td>\n",
       "      <td>2856787757</td>\n",
       "      <td>senjoniernst</td>\n",
       "    </tr>\n",
       "    <tr>\n",
       "      <th>3</th>\n",
       "      <td>T000476</td>\n",
       "      <td>2964174789</td>\n",
       "      <td>senthomtillis</td>\n",
       "    </tr>\n",
       "    <tr>\n",
       "      <th>4</th>\n",
       "      <td>Y000062</td>\n",
       "      <td>384913290</td>\n",
       "      <td>repjohnyarmuth</td>\n",
       "    </tr>\n",
       "  </tbody>\n",
       "</table>\n",
       "</div>"
      ],
      "text/plain": [
       "  id_bioguide  twitter_id twitter_screenname\n",
       "0     R000600  3026622545           repamata\n",
       "1     Y000064   234128524       sentoddyoung\n",
       "2     E000295  2856787757       senjoniernst\n",
       "3     T000476  2964174789      senthomtillis\n",
       "4     Y000062   384913290     repjohnyarmuth"
      ]
     },
     "execution_count": 5,
     "metadata": {},
     "output_type": "execute_result"
    }
   ],
   "source": [
    "legislator_sm_df.head()"
   ]
  },
  {
   "cell_type": "code",
   "execution_count": 6,
   "metadata": {},
   "outputs": [
    {
     "data": {
      "text/plain": [
       "(532, 3)"
      ]
     },
     "execution_count": 6,
     "metadata": {},
     "output_type": "execute_result"
    }
   ],
   "source": [
    "legislator_sm_df.shape"
   ]
  },
  {
   "cell_type": "code",
   "execution_count": 7,
   "metadata": {},
   "outputs": [
    {
     "data": {
      "text/html": [
       "<div>\n",
       "<style scoped>\n",
       "    .dataframe tbody tr th:only-of-type {\n",
       "        vertical-align: middle;\n",
       "    }\n",
       "\n",
       "    .dataframe tbody tr th {\n",
       "        vertical-align: top;\n",
       "    }\n",
       "\n",
       "    .dataframe thead th {\n",
       "        text-align: right;\n",
       "    }\n",
       "</style>\n",
       "<table border=\"1\" class=\"dataframe\">\n",
       "  <thead>\n",
       "    <tr style=\"text-align: right;\">\n",
       "      <th></th>\n",
       "      <th>id_bioguide</th>\n",
       "      <th>twitter_id</th>\n",
       "      <th>twitter_screenname</th>\n",
       "    </tr>\n",
       "  </thead>\n",
       "  <tbody>\n",
       "    <tr>\n",
       "      <th>209</th>\n",
       "      <td>C001049</td>\n",
       "      <td>nan</td>\n",
       "      <td>NaN</td>\n",
       "    </tr>\n",
       "    <tr>\n",
       "      <th>239</th>\n",
       "      <td>A000367</td>\n",
       "      <td>nan</td>\n",
       "      <td>NaN</td>\n",
       "    </tr>\n",
       "    <tr>\n",
       "      <th>310</th>\n",
       "      <td>K000384</td>\n",
       "      <td>nan</td>\n",
       "      <td>NaN</td>\n",
       "    </tr>\n",
       "    <tr>\n",
       "      <th>412</th>\n",
       "      <td>C001108</td>\n",
       "      <td>nan</td>\n",
       "      <td>NaN</td>\n",
       "    </tr>\n",
       "    <tr>\n",
       "      <th>431</th>\n",
       "      <td>G000584</td>\n",
       "      <td>nan</td>\n",
       "      <td>NaN</td>\n",
       "    </tr>\n",
       "  </tbody>\n",
       "</table>\n",
       "</div>"
      ],
      "text/plain": [
       "    id_bioguide twitter_id twitter_screenname\n",
       "209     C001049        nan                NaN\n",
       "239     A000367        nan                NaN\n",
       "310     K000384        nan                NaN\n",
       "412     C001108        nan                NaN\n",
       "431     G000584        nan                NaN"
      ]
     },
     "execution_count": 7,
     "metadata": {},
     "output_type": "execute_result"
    }
   ],
   "source": [
    "legislator_sm_df[legislator_sm_df.isnull().any(axis=1)]"
   ]
  },
  {
   "cell_type": "code",
   "execution_count": 8,
   "metadata": {},
   "outputs": [],
   "source": [
    "# get legislator - party mapping\n",
    "current_legis = extract_legis_metadata(\"legislators-current.json\")\n",
    "historical_legis = extract_legis_metadata(\n",
    "    \"legislators-historical.json\"\n",
    ")"
   ]
  },
  {
   "cell_type": "code",
   "execution_count": 9,
   "metadata": {},
   "outputs": [
    {
     "data": {
      "text/html": [
       "<div>\n",
       "<style scoped>\n",
       "    .dataframe tbody tr th:only-of-type {\n",
       "        vertical-align: middle;\n",
       "    }\n",
       "\n",
       "    .dataframe tbody tr th {\n",
       "        vertical-align: top;\n",
       "    }\n",
       "\n",
       "    .dataframe thead th {\n",
       "        text-align: right;\n",
       "    }\n",
       "</style>\n",
       "<table border=\"1\" class=\"dataframe\">\n",
       "  <thead>\n",
       "    <tr style=\"text-align: right;\">\n",
       "      <th></th>\n",
       "      <th>id_bioguide</th>\n",
       "      <th>type</th>\n",
       "      <th>state</th>\n",
       "      <th>party</th>\n",
       "    </tr>\n",
       "  </thead>\n",
       "  <tbody>\n",
       "    <tr>\n",
       "      <th>530</th>\n",
       "      <td>G000592</td>\n",
       "      <td>rep</td>\n",
       "      <td>ME</td>\n",
       "      <td>Democrat</td>\n",
       "    </tr>\n",
       "    <tr>\n",
       "      <th>531</th>\n",
       "      <td>K000395</td>\n",
       "      <td>rep</td>\n",
       "      <td>PA</td>\n",
       "      <td>Republican</td>\n",
       "    </tr>\n",
       "    <tr>\n",
       "      <th>532</th>\n",
       "      <td>B001311</td>\n",
       "      <td>rep</td>\n",
       "      <td>NC</td>\n",
       "      <td>Republican</td>\n",
       "    </tr>\n",
       "    <tr>\n",
       "      <th>533</th>\n",
       "      <td>M001210</td>\n",
       "      <td>rep</td>\n",
       "      <td>NC</td>\n",
       "      <td>Republican</td>\n",
       "    </tr>\n",
       "    <tr>\n",
       "      <th>534</th>\n",
       "      <td>L000594</td>\n",
       "      <td>sen</td>\n",
       "      <td>GA</td>\n",
       "      <td>Republican</td>\n",
       "    </tr>\n",
       "  </tbody>\n",
       "</table>\n",
       "</div>"
      ],
      "text/plain": [
       "    id_bioguide type state       party\n",
       "530     G000592  rep    ME    Democrat\n",
       "531     K000395  rep    PA  Republican\n",
       "532     B001311  rep    NC  Republican\n",
       "533     M001210  rep    NC  Republican\n",
       "534     L000594  sen    GA  Republican"
      ]
     },
     "execution_count": 9,
     "metadata": {},
     "output_type": "execute_result"
    }
   ],
   "source": [
    "current_legis.tail()"
   ]
  },
  {
   "cell_type": "code",
   "execution_count": 10,
   "metadata": {},
   "outputs": [
    {
     "data": {
      "text/html": [
       "<div>\n",
       "<style scoped>\n",
       "    .dataframe tbody tr th:only-of-type {\n",
       "        vertical-align: middle;\n",
       "    }\n",
       "\n",
       "    .dataframe tbody tr th {\n",
       "        vertical-align: top;\n",
       "    }\n",
       "\n",
       "    .dataframe thead th {\n",
       "        text-align: right;\n",
       "    }\n",
       "</style>\n",
       "<table border=\"1\" class=\"dataframe\">\n",
       "  <thead>\n",
       "    <tr style=\"text-align: right;\">\n",
       "      <th></th>\n",
       "      <th>id_bioguide</th>\n",
       "      <th>type</th>\n",
       "      <th>state</th>\n",
       "      <th>party</th>\n",
       "    </tr>\n",
       "  </thead>\n",
       "  <tbody>\n",
       "    <tr>\n",
       "      <th>11977</th>\n",
       "      <td>C000984</td>\n",
       "      <td>rep</td>\n",
       "      <td>MD</td>\n",
       "      <td>Democrat</td>\n",
       "    </tr>\n",
       "    <tr>\n",
       "      <th>11978</th>\n",
       "      <td>H001087</td>\n",
       "      <td>rep</td>\n",
       "      <td>CA</td>\n",
       "      <td>Democrat</td>\n",
       "    </tr>\n",
       "    <tr>\n",
       "      <th>11979</th>\n",
       "      <td>I000055</td>\n",
       "      <td>sen</td>\n",
       "      <td>GA</td>\n",
       "      <td>Republican</td>\n",
       "    </tr>\n",
       "    <tr>\n",
       "      <th>11980</th>\n",
       "      <td>H001048</td>\n",
       "      <td>rep</td>\n",
       "      <td>CA</td>\n",
       "      <td>Republican</td>\n",
       "    </tr>\n",
       "    <tr>\n",
       "      <th>11981</th>\n",
       "      <td>M001187</td>\n",
       "      <td>rep</td>\n",
       "      <td>NC</td>\n",
       "      <td>Republican</td>\n",
       "    </tr>\n",
       "  </tbody>\n",
       "</table>\n",
       "</div>"
      ],
      "text/plain": [
       "      id_bioguide type state       party\n",
       "11977     C000984  rep    MD    Democrat\n",
       "11978     H001087  rep    CA    Democrat\n",
       "11979     I000055  sen    GA  Republican\n",
       "11980     H001048  rep    CA  Republican\n",
       "11981     M001187  rep    NC  Republican"
      ]
     },
     "execution_count": 10,
     "metadata": {},
     "output_type": "execute_result"
    }
   ],
   "source": [
    "historical_legis.tail()"
   ]
  },
  {
   "cell_type": "code",
   "execution_count": 11,
   "metadata": {},
   "outputs": [
    {
     "data": {
      "text/html": [
       "<div>\n",
       "<style scoped>\n",
       "    .dataframe tbody tr th:only-of-type {\n",
       "        vertical-align: middle;\n",
       "    }\n",
       "\n",
       "    .dataframe tbody tr th {\n",
       "        vertical-align: top;\n",
       "    }\n",
       "\n",
       "    .dataframe thead th {\n",
       "        text-align: right;\n",
       "    }\n",
       "</style>\n",
       "<table border=\"1\" class=\"dataframe\">\n",
       "  <thead>\n",
       "    <tr style=\"text-align: right;\">\n",
       "      <th></th>\n",
       "      <th>id_bioguide</th>\n",
       "      <th>type</th>\n",
       "      <th>state</th>\n",
       "      <th>party</th>\n",
       "    </tr>\n",
       "  </thead>\n",
       "  <tbody>\n",
       "  </tbody>\n",
       "</table>\n",
       "</div>"
      ],
      "text/plain": [
       "Empty DataFrame\n",
       "Columns: [id_bioguide, type, state, party]\n",
       "Index: []"
      ]
     },
     "execution_count": 11,
     "metadata": {},
     "output_type": "execute_result"
    }
   ],
   "source": [
    "current_legis[current_legis.isnull().any(axis=1)] # no nulls here"
   ]
  },
  {
   "cell_type": "code",
   "execution_count": 12,
   "metadata": {},
   "outputs": [
    {
     "data": {
      "text/plain": [
       "(234, 4)"
      ]
     },
     "execution_count": 12,
     "metadata": {},
     "output_type": "execute_result"
    }
   ],
   "source": [
    "historical_legis[historical_legis.isnull().any(axis=1)].shape"
   ]
  },
  {
   "cell_type": "code",
   "execution_count": 13,
   "metadata": {},
   "outputs": [
    {
     "data": {
      "text/plain": [
       "set()"
      ]
     },
     "execution_count": 13,
     "metadata": {},
     "output_type": "execute_result"
    }
   ],
   "source": [
    "# is there overlap?\n",
    "\n",
    "set(current_legis.id_bioguide.unique().tolist()).intersection(\n",
    "set(historical_legis.id_bioguide.unique().tolist())\n",
    ")"
   ]
  },
  {
   "cell_type": "code",
   "execution_count": 14,
   "metadata": {},
   "outputs": [],
   "source": [
    "# combine legislator metadata\n",
    "all_legislators_metadata_df = pd.concat([current_legis, historical_legis])"
   ]
  },
  {
   "cell_type": "code",
   "execution_count": 15,
   "metadata": {},
   "outputs": [],
   "source": [
    "# join in order to add state/party metadata to social media df\n",
    "\n",
    "combined_metadata = legislator_sm_df.merge(\n",
    "    all_legislators_metadata_df,\n",
    "    how=\"left\",\n",
    "    left_on=\"id_bioguide\",\n",
    "    right_on=\"id_bioguide\",\n",
    ")\n"
   ]
  },
  {
   "cell_type": "code",
   "execution_count": 16,
   "metadata": {},
   "outputs": [
    {
     "data": {
      "text/plain": [
       "(532, 6)"
      ]
     },
     "execution_count": 16,
     "metadata": {},
     "output_type": "execute_result"
    }
   ],
   "source": [
    "combined_metadata.shape"
   ]
  },
  {
   "cell_type": "code",
   "execution_count": 17,
   "metadata": {},
   "outputs": [
    {
     "data": {
      "text/html": [
       "<div>\n",
       "<style scoped>\n",
       "    .dataframe tbody tr th:only-of-type {\n",
       "        vertical-align: middle;\n",
       "    }\n",
       "\n",
       "    .dataframe tbody tr th {\n",
       "        vertical-align: top;\n",
       "    }\n",
       "\n",
       "    .dataframe thead th {\n",
       "        text-align: right;\n",
       "    }\n",
       "</style>\n",
       "<table border=\"1\" class=\"dataframe\">\n",
       "  <thead>\n",
       "    <tr style=\"text-align: right;\">\n",
       "      <th></th>\n",
       "      <th>id_bioguide</th>\n",
       "      <th>twitter_id</th>\n",
       "      <th>twitter_screenname</th>\n",
       "      <th>type</th>\n",
       "      <th>state</th>\n",
       "      <th>party</th>\n",
       "    </tr>\n",
       "  </thead>\n",
       "  <tbody>\n",
       "    <tr>\n",
       "      <th>527</th>\n",
       "      <td>H001089</td>\n",
       "      <td>1080960924687704064</td>\n",
       "      <td>senhawleypress</td>\n",
       "      <td>sen</td>\n",
       "      <td>MO</td>\n",
       "      <td>Republican</td>\n",
       "    </tr>\n",
       "    <tr>\n",
       "      <th>528</th>\n",
       "      <td>V000133</td>\n",
       "      <td>1083469084648505344</td>\n",
       "      <td>congressmanjvd</td>\n",
       "      <td>rep</td>\n",
       "      <td>NJ</td>\n",
       "      <td>Republican</td>\n",
       "    </tr>\n",
       "    <tr>\n",
       "      <th>529</th>\n",
       "      <td>K000395</td>\n",
       "      <td>1136060761422405633</td>\n",
       "      <td>repfredkeller</td>\n",
       "      <td>rep</td>\n",
       "      <td>PA</td>\n",
       "      <td>Republican</td>\n",
       "    </tr>\n",
       "    <tr>\n",
       "      <th>530</th>\n",
       "      <td>S001204</td>\n",
       "      <td>346509049</td>\n",
       "      <td>guamcongressman</td>\n",
       "      <td>rep</td>\n",
       "      <td>GU</td>\n",
       "      <td>Democrat</td>\n",
       "    </tr>\n",
       "    <tr>\n",
       "      <th>531</th>\n",
       "      <td>L000594</td>\n",
       "      <td>1200451909406121984</td>\n",
       "      <td>senatorloeffler</td>\n",
       "      <td>sen</td>\n",
       "      <td>GA</td>\n",
       "      <td>Republican</td>\n",
       "    </tr>\n",
       "  </tbody>\n",
       "</table>\n",
       "</div>"
      ],
      "text/plain": [
       "    id_bioguide           twitter_id twitter_screenname type state       party\n",
       "527     H001089  1080960924687704064     senhawleypress  sen    MO  Republican\n",
       "528     V000133  1083469084648505344     congressmanjvd  rep    NJ  Republican\n",
       "529     K000395  1136060761422405633      repfredkeller  rep    PA  Republican\n",
       "530     S001204            346509049    guamcongressman  rep    GU    Democrat\n",
       "531     L000594  1200451909406121984    senatorloeffler  sen    GA  Republican"
      ]
     },
     "execution_count": 17,
     "metadata": {},
     "output_type": "execute_result"
    }
   ],
   "source": [
    "combined_metadata.tail()"
   ]
  },
  {
   "cell_type": "code",
   "execution_count": 18,
   "metadata": {
    "scrolled": true
   },
   "outputs": [
    {
     "data": {
      "text/html": [
       "<div>\n",
       "<style scoped>\n",
       "    .dataframe tbody tr th:only-of-type {\n",
       "        vertical-align: middle;\n",
       "    }\n",
       "\n",
       "    .dataframe tbody tr th {\n",
       "        vertical-align: top;\n",
       "    }\n",
       "\n",
       "    .dataframe thead th {\n",
       "        text-align: right;\n",
       "    }\n",
       "</style>\n",
       "<table border=\"1\" class=\"dataframe\">\n",
       "  <thead>\n",
       "    <tr style=\"text-align: right;\">\n",
       "      <th></th>\n",
       "      <th>id_bioguide</th>\n",
       "      <th>twitter_id</th>\n",
       "      <th>twitter_screenname</th>\n",
       "      <th>type</th>\n",
       "      <th>state</th>\n",
       "      <th>party</th>\n",
       "    </tr>\n",
       "  </thead>\n",
       "  <tbody>\n",
       "    <tr>\n",
       "      <th>209</th>\n",
       "      <td>C001049</td>\n",
       "      <td>nan</td>\n",
       "      <td>NaN</td>\n",
       "      <td>rep</td>\n",
       "      <td>MO</td>\n",
       "      <td>Democrat</td>\n",
       "    </tr>\n",
       "    <tr>\n",
       "      <th>239</th>\n",
       "      <td>A000367</td>\n",
       "      <td>nan</td>\n",
       "      <td>NaN</td>\n",
       "      <td>rep</td>\n",
       "      <td>MI</td>\n",
       "      <td>Independent</td>\n",
       "    </tr>\n",
       "    <tr>\n",
       "      <th>310</th>\n",
       "      <td>K000384</td>\n",
       "      <td>nan</td>\n",
       "      <td>NaN</td>\n",
       "      <td>sen</td>\n",
       "      <td>VA</td>\n",
       "      <td>Democrat</td>\n",
       "    </tr>\n",
       "    <tr>\n",
       "      <th>412</th>\n",
       "      <td>C001108</td>\n",
       "      <td>nan</td>\n",
       "      <td>NaN</td>\n",
       "      <td>rep</td>\n",
       "      <td>KY</td>\n",
       "      <td>Republican</td>\n",
       "    </tr>\n",
       "    <tr>\n",
       "      <th>431</th>\n",
       "      <td>G000584</td>\n",
       "      <td>nan</td>\n",
       "      <td>NaN</td>\n",
       "      <td>rep</td>\n",
       "      <td>MT</td>\n",
       "      <td>Republican</td>\n",
       "    </tr>\n",
       "  </tbody>\n",
       "</table>\n",
       "</div>"
      ],
      "text/plain": [
       "    id_bioguide twitter_id twitter_screenname type state        party\n",
       "209     C001049        nan                NaN  rep    MO     Democrat\n",
       "239     A000367        nan                NaN  rep    MI  Independent\n",
       "310     K000384        nan                NaN  sen    VA     Democrat\n",
       "412     C001108        nan                NaN  rep    KY   Republican\n",
       "431     G000584        nan                NaN  rep    MT   Republican"
      ]
     },
     "execution_count": 18,
     "metadata": {},
     "output_type": "execute_result"
    }
   ],
   "source": [
    "# where do we have missing data?\n",
    "combined_metadata[combined_metadata.isnull().any(axis=1)]"
   ]
  },
  {
   "cell_type": "code",
   "execution_count": 19,
   "metadata": {},
   "outputs": [
    {
     "data": {
      "text/plain": [
       "(527, 6)"
      ]
     },
     "execution_count": 19,
     "metadata": {},
     "output_type": "execute_result"
    }
   ],
   "source": [
    "combined_metadata[~combined_metadata.isnull().any(axis=1)].shape"
   ]
  },
  {
   "cell_type": "code",
   "execution_count": 20,
   "metadata": {},
   "outputs": [
    {
     "name": "stdout",
     "output_type": "stream",
     "text": [
      "combined_metadata before dropping NAs (532, 6)\n",
      "combined_metadata after dropping NAs (527, 6)\n"
     ]
    }
   ],
   "source": [
    "print(f\"combined_metadata before dropping NAs {combined_metadata.shape}\")\n",
    "\n",
    "combined_metadata.dropna(inplace=True)  # drop anyone with incomplete metadata\n",
    "\n",
    "print(f\"combined_metadata after dropping NAs {combined_metadata.shape}\")\n"
   ]
  },
  {
   "cell_type": "code",
   "execution_count": 21,
   "metadata": {},
   "outputs": [],
   "source": [
    "combined_metadata = combined_metadata[[\"twitter_screenname\", \"type\", \"state\", \"party\"]]\n",
    "combined_metadata[\"is_official\"] = 1"
   ]
  },
  {
   "cell_type": "code",
   "execution_count": 22,
   "metadata": {},
   "outputs": [
    {
     "data": {
      "text/html": [
       "<div>\n",
       "<style scoped>\n",
       "    .dataframe tbody tr th:only-of-type {\n",
       "        vertical-align: middle;\n",
       "    }\n",
       "\n",
       "    .dataframe tbody tr th {\n",
       "        vertical-align: top;\n",
       "    }\n",
       "\n",
       "    .dataframe thead th {\n",
       "        text-align: right;\n",
       "    }\n",
       "</style>\n",
       "<table border=\"1\" class=\"dataframe\">\n",
       "  <thead>\n",
       "    <tr style=\"text-align: right;\">\n",
       "      <th></th>\n",
       "      <th>twitter_screenname</th>\n",
       "      <th>type</th>\n",
       "      <th>state</th>\n",
       "      <th>party</th>\n",
       "      <th>is_official</th>\n",
       "    </tr>\n",
       "  </thead>\n",
       "  <tbody>\n",
       "    <tr>\n",
       "      <th>0</th>\n",
       "      <td>repamata</td>\n",
       "      <td>rep</td>\n",
       "      <td>AS</td>\n",
       "      <td>Republican</td>\n",
       "      <td>1</td>\n",
       "    </tr>\n",
       "    <tr>\n",
       "      <th>1</th>\n",
       "      <td>sentoddyoung</td>\n",
       "      <td>sen</td>\n",
       "      <td>IN</td>\n",
       "      <td>Republican</td>\n",
       "      <td>1</td>\n",
       "    </tr>\n",
       "    <tr>\n",
       "      <th>2</th>\n",
       "      <td>senjoniernst</td>\n",
       "      <td>sen</td>\n",
       "      <td>IA</td>\n",
       "      <td>Republican</td>\n",
       "      <td>1</td>\n",
       "    </tr>\n",
       "    <tr>\n",
       "      <th>3</th>\n",
       "      <td>senthomtillis</td>\n",
       "      <td>sen</td>\n",
       "      <td>NC</td>\n",
       "      <td>Republican</td>\n",
       "      <td>1</td>\n",
       "    </tr>\n",
       "    <tr>\n",
       "      <th>4</th>\n",
       "      <td>repjohnyarmuth</td>\n",
       "      <td>rep</td>\n",
       "      <td>KY</td>\n",
       "      <td>Democrat</td>\n",
       "      <td>1</td>\n",
       "    </tr>\n",
       "  </tbody>\n",
       "</table>\n",
       "</div>"
      ],
      "text/plain": [
       "  twitter_screenname type state       party  is_official\n",
       "0           repamata  rep    AS  Republican            1\n",
       "1       sentoddyoung  sen    IN  Republican            1\n",
       "2       senjoniernst  sen    IA  Republican            1\n",
       "3      senthomtillis  sen    NC  Republican            1\n",
       "4     repjohnyarmuth  rep    KY    Democrat            1"
      ]
     },
     "execution_count": 22,
     "metadata": {},
     "output_type": "execute_result"
    }
   ],
   "source": [
    "combined_metadata.head()"
   ]
  },
  {
   "cell_type": "markdown",
   "metadata": {},
   "source": [
    "# Load the manually coded data"
   ]
  },
  {
   "cell_type": "code",
   "execution_count": 23,
   "metadata": {},
   "outputs": [],
   "source": [
    "manually_coded = pd.read_csv(\"missing_metadata_filled.csv\")"
   ]
  },
  {
   "cell_type": "code",
   "execution_count": 24,
   "metadata": {},
   "outputs": [],
   "source": [
    "# add the is_official column and deal with Independents and Libertarians\n",
    "\n",
    "manually_coded = manually_coded[~manually_coded.party.isnull()]\n",
    "manually_coded[\"is_official\"] = 0\n",
    "manually_coded.replace({\"r\": \"Republican\", \n",
    "                        \"d\": \"Democrat\", \n",
    "                        \"i\": \"Independent\", \n",
    "                        \"L\": \"Libertarian\"}, \n",
    "                       inplace=True)\n",
    "manually_coded = manually_coded.rename(columns={\"screen_name\": \"twitter_screenname\"})"
   ]
  },
  {
   "cell_type": "code",
   "execution_count": 25,
   "metadata": {},
   "outputs": [
    {
     "data": {
      "text/html": [
       "<div>\n",
       "<style scoped>\n",
       "    .dataframe tbody tr th:only-of-type {\n",
       "        vertical-align: middle;\n",
       "    }\n",
       "\n",
       "    .dataframe tbody tr th {\n",
       "        vertical-align: top;\n",
       "    }\n",
       "\n",
       "    .dataframe thead th {\n",
       "        text-align: right;\n",
       "    }\n",
       "</style>\n",
       "<table border=\"1\" class=\"dataframe\">\n",
       "  <thead>\n",
       "    <tr style=\"text-align: right;\">\n",
       "      <th></th>\n",
       "      <th>twitter_screenname</th>\n",
       "      <th>count</th>\n",
       "      <th>type</th>\n",
       "      <th>state</th>\n",
       "      <th>party</th>\n",
       "      <th>is_official</th>\n",
       "    </tr>\n",
       "  </thead>\n",
       "  <tbody>\n",
       "    <tr>\n",
       "      <th>0</th>\n",
       "      <td>auctnr1</td>\n",
       "      <td>54103</td>\n",
       "      <td>rep</td>\n",
       "      <td>MO</td>\n",
       "      <td>Republican</td>\n",
       "      <td>0</td>\n",
       "    </tr>\n",
       "    <tr>\n",
       "      <th>1</th>\n",
       "      <td>hispaniccaucus</td>\n",
       "      <td>27298</td>\n",
       "      <td>NaN</td>\n",
       "      <td>NaN</td>\n",
       "      <td>Democrat</td>\n",
       "      <td>0</td>\n",
       "    </tr>\n",
       "    <tr>\n",
       "      <th>2</th>\n",
       "      <td>chiproytx</td>\n",
       "      <td>22404</td>\n",
       "      <td>rep</td>\n",
       "      <td>TX</td>\n",
       "      <td>Republican</td>\n",
       "      <td>0</td>\n",
       "    </tr>\n",
       "    <tr>\n",
       "      <th>3</th>\n",
       "      <td>lacyclaymo1</td>\n",
       "      <td>21319</td>\n",
       "      <td>rep</td>\n",
       "      <td>MO</td>\n",
       "      <td>Democrat</td>\n",
       "      <td>0</td>\n",
       "    </tr>\n",
       "    <tr>\n",
       "      <th>4</th>\n",
       "      <td>repcloakroom</td>\n",
       "      <td>16333</td>\n",
       "      <td>NaN</td>\n",
       "      <td>NaN</td>\n",
       "      <td>Republican</td>\n",
       "      <td>0</td>\n",
       "    </tr>\n",
       "  </tbody>\n",
       "</table>\n",
       "</div>"
      ],
      "text/plain": [
       "  twitter_screenname  count type state       party  is_official\n",
       "0            auctnr1  54103  rep    MO  Republican            0\n",
       "1     hispaniccaucus  27298  NaN   NaN    Democrat            0\n",
       "2          chiproytx  22404  rep    TX  Republican            0\n",
       "3        lacyclaymo1  21319  rep    MO    Democrat            0\n",
       "4       repcloakroom  16333  NaN   NaN  Republican            0"
      ]
     },
     "execution_count": 25,
     "metadata": {},
     "output_type": "execute_result"
    }
   ],
   "source": [
    "manually_coded.head()"
   ]
  },
  {
   "cell_type": "markdown",
   "metadata": {},
   "source": [
    "# Combine manually coded and official accounts"
   ]
  },
  {
   "cell_type": "code",
   "execution_count": 26,
   "metadata": {},
   "outputs": [
    {
     "name": "stderr",
     "output_type": "stream",
     "text": [
      "/usr/local/lib/python3.7/site-packages/ipykernel_launcher.py:1: FutureWarning: Sorting because non-concatenation axis is not aligned. A future version\n",
      "of pandas will change to not sort by default.\n",
      "\n",
      "To accept the future behavior, pass 'sort=False'.\n",
      "\n",
      "To retain the current behavior and silence the warning, pass 'sort=True'.\n",
      "\n",
      "  \"\"\"Entry point for launching an IPython kernel.\n"
     ]
    },
    {
     "data": {
      "text/plain": [
       "(659, 6)"
      ]
     },
     "execution_count": 26,
     "metadata": {},
     "output_type": "execute_result"
    }
   ],
   "source": [
    "all_metadata = pd.concat([manually_coded, combined_metadata])\n",
    "\n",
    "all_metadata.shape"
   ]
  },
  {
   "cell_type": "code",
   "execution_count": 27,
   "metadata": {},
   "outputs": [
    {
     "data": {
      "text/plain": [
       "Democrat       365\n",
       "Republican     290\n",
       "Independent      3\n",
       "Libertarian      1\n",
       "Name: party, dtype: int64"
      ]
     },
     "execution_count": 27,
     "metadata": {},
     "output_type": "execute_result"
    }
   ],
   "source": [
    "all_metadata.party.value_counts()"
   ]
  },
  {
   "cell_type": "code",
   "execution_count": 28,
   "metadata": {},
   "outputs": [],
   "source": [
    "# code Republicans/Libertarians --> 1, Democrats/Independents --> 0\n",
    "def encode_party(row):\n",
    "    if row.party in  [\"Republican\", \"Libertarian\"]:\n",
    "        return 1\n",
    "    else:\n",
    "        return 0\n",
    "\n",
    "all_metadata['label'] = all_metadata.apply(lambda row: encode_party(row), axis=1)"
   ]
  },
  {
   "cell_type": "code",
   "execution_count": 29,
   "metadata": {},
   "outputs": [
    {
     "data": {
      "text/html": [
       "<div>\n",
       "<style scoped>\n",
       "    .dataframe tbody tr th:only-of-type {\n",
       "        vertical-align: middle;\n",
       "    }\n",
       "\n",
       "    .dataframe tbody tr th {\n",
       "        vertical-align: top;\n",
       "    }\n",
       "\n",
       "    .dataframe thead th {\n",
       "        text-align: right;\n",
       "    }\n",
       "</style>\n",
       "<table border=\"1\" class=\"dataframe\">\n",
       "  <thead>\n",
       "    <tr style=\"text-align: right;\">\n",
       "      <th></th>\n",
       "      <th>count</th>\n",
       "      <th>is_official</th>\n",
       "      <th>party</th>\n",
       "      <th>state</th>\n",
       "      <th>twitter_screenname</th>\n",
       "      <th>type</th>\n",
       "      <th>label</th>\n",
       "    </tr>\n",
       "  </thead>\n",
       "  <tbody>\n",
       "    <tr>\n",
       "      <th>19</th>\n",
       "      <td>8602.0</td>\n",
       "      <td>0</td>\n",
       "      <td>Independent</td>\n",
       "      <td>VT</td>\n",
       "      <td>berniesanders</td>\n",
       "      <td>sen</td>\n",
       "      <td>0</td>\n",
       "    </tr>\n",
       "    <tr>\n",
       "      <th>63</th>\n",
       "      <td>NaN</td>\n",
       "      <td>1</td>\n",
       "      <td>Independent</td>\n",
       "      <td>VT</td>\n",
       "      <td>sensanders</td>\n",
       "      <td>sen</td>\n",
       "      <td>0</td>\n",
       "    </tr>\n",
       "    <tr>\n",
       "      <th>244</th>\n",
       "      <td>NaN</td>\n",
       "      <td>1</td>\n",
       "      <td>Independent</td>\n",
       "      <td>ME</td>\n",
       "      <td>senangusking</td>\n",
       "      <td>sen</td>\n",
       "      <td>0</td>\n",
       "    </tr>\n",
       "  </tbody>\n",
       "</table>\n",
       "</div>"
      ],
      "text/plain": [
       "      count  is_official        party state twitter_screenname type  label\n",
       "19   8602.0            0  Independent    VT      berniesanders  sen      0\n",
       "63      NaN            1  Independent    VT         sensanders  sen      0\n",
       "244     NaN            1  Independent    ME       senangusking  sen      0"
      ]
     },
     "execution_count": 29,
     "metadata": {},
     "output_type": "execute_result"
    }
   ],
   "source": [
    "all_metadata[all_metadata[\"party\"] == \"Independent\"]"
   ]
  },
  {
   "cell_type": "code",
   "execution_count": 30,
   "metadata": {},
   "outputs": [
    {
     "data": {
      "text/html": [
       "<div>\n",
       "<style scoped>\n",
       "    .dataframe tbody tr th:only-of-type {\n",
       "        vertical-align: middle;\n",
       "    }\n",
       "\n",
       "    .dataframe tbody tr th {\n",
       "        vertical-align: top;\n",
       "    }\n",
       "\n",
       "    .dataframe thead th {\n",
       "        text-align: right;\n",
       "    }\n",
       "</style>\n",
       "<table border=\"1\" class=\"dataframe\">\n",
       "  <thead>\n",
       "    <tr style=\"text-align: right;\">\n",
       "      <th></th>\n",
       "      <th>count</th>\n",
       "      <th>is_official</th>\n",
       "      <th>party</th>\n",
       "      <th>state</th>\n",
       "      <th>twitter_screenname</th>\n",
       "      <th>type</th>\n",
       "      <th>label</th>\n",
       "    </tr>\n",
       "  </thead>\n",
       "  <tbody>\n",
       "    <tr>\n",
       "      <th>71</th>\n",
       "      <td>4217.0</td>\n",
       "      <td>0</td>\n",
       "      <td>Libertarian</td>\n",
       "      <td>MI</td>\n",
       "      <td>justinamash</td>\n",
       "      <td>rep</td>\n",
       "      <td>1</td>\n",
       "    </tr>\n",
       "  </tbody>\n",
       "</table>\n",
       "</div>"
      ],
      "text/plain": [
       "     count  is_official        party state twitter_screenname type  label\n",
       "71  4217.0            0  Libertarian    MI        justinamash  rep      1"
      ]
     },
     "execution_count": 30,
     "metadata": {},
     "output_type": "execute_result"
    }
   ],
   "source": [
    "all_metadata[all_metadata[\"party\"] == \"Libertarian\"]"
   ]
  },
  {
   "cell_type": "markdown",
   "metadata": {},
   "source": [
    "# Finally, write the tweets table with the metadata"
   ]
  },
  {
   "cell_type": "code",
   "execution_count": 31,
   "metadata": {},
   "outputs": [],
   "source": [
    "# tweets table\n",
    "for fname in [f for f in os.listdir(dirname) if f.endswith(\"json\")]:\n",
    "    temp_df = (\n",
    "        pd.read_json(os.path.join(dirname, fname))\n",
    "        .dropna()\n",
    "        .replace(\"\\n\", \" \", regex=True)\n",
    "    )\n",
    "    temp_df[\"screen_name_lower\"] = temp_df[\"screen_name\"].str.lower()\n",
    "    \n",
    "    df = temp_df[[\"id\", \"text\", \"screen_name\", \"user_id\", \"screen_name_lower\"]].merge(\n",
    "        all_metadata,\n",
    "        how=\"inner\",\n",
    "        left_on = \"screen_name_lower\",\n",
    "        right_on = \"twitter_screenname\"\n",
    "    )\n",
    "\n",
    "    df[[\"id\", \"text\", \"screen_name\", \"user_id\", \"label\", \"is_official\"]].to_sql(\n",
    "        \"temp_table\",\n",
    "        con=engine,\n",
    "        index=False,\n",
    "        index_label=\"id\",\n",
    "        if_exists=\"replace\",\n",
    "        chunksize=1000,\n",
    "    )\n",
    "\n",
    "    del temp_df\n",
    "    del df\n",
    "    \n",
    "    insert_into_sql = \"INSERT OR IGNORE INTO tweets SELECT * FROM temp_table\"\n",
    "    engine.execute(insert_into_sql)\n",
    "\n",
    "    \n",
    "engine.execute(\"DROP TABLE IF EXISTS temp_table\")\n",
    "\n",
    "s.commit()"
   ]
  },
  {
   "cell_type": "code",
   "execution_count": 32,
   "metadata": {},
   "outputs": [],
   "source": [
    "# the twitter user id is only in the tweets data\n",
    "# need to pull it out to make our users table\n",
    "twitter_user_ids = pd.read_sql_query(sql = \"SELECT screen_name, user_id FROM tweets GROUP BY screen_name\",\n",
    "                 con = engine)\n",
    "twitter_user_ids[\"screen_name_lower\"] = twitter_user_ids[\"screen_name\"].str.lower()"
   ]
  },
  {
   "cell_type": "code",
   "execution_count": 33,
   "metadata": {},
   "outputs": [],
   "source": [
    "all_metadata = all_metadata.merge(twitter_user_ids,\n",
    "                  how=\"left\",\n",
    "                  left_on=\"twitter_screenname\",\n",
    "                  right_on=\"screen_name_lower\")\n",
    "\n",
    "all_metadata.drop([\"count\", \"screen_name_lower\", \"twitter_screenname\"], \n",
    "                  axis = 1,\n",
    "                  inplace = True)"
   ]
  },
  {
   "cell_type": "code",
   "execution_count": 34,
   "metadata": {},
   "outputs": [
    {
     "data": {
      "text/html": [
       "<div>\n",
       "<style scoped>\n",
       "    .dataframe tbody tr th:only-of-type {\n",
       "        vertical-align: middle;\n",
       "    }\n",
       "\n",
       "    .dataframe tbody tr th {\n",
       "        vertical-align: top;\n",
       "    }\n",
       "\n",
       "    .dataframe thead th {\n",
       "        text-align: right;\n",
       "    }\n",
       "</style>\n",
       "<table border=\"1\" class=\"dataframe\">\n",
       "  <thead>\n",
       "    <tr style=\"text-align: right;\">\n",
       "      <th></th>\n",
       "      <th>is_official</th>\n",
       "      <th>party</th>\n",
       "      <th>state</th>\n",
       "      <th>type</th>\n",
       "      <th>label</th>\n",
       "      <th>screen_name</th>\n",
       "      <th>user_id</th>\n",
       "    </tr>\n",
       "  </thead>\n",
       "  <tbody>\n",
       "    <tr>\n",
       "      <th>0</th>\n",
       "      <td>0</td>\n",
       "      <td>Republican</td>\n",
       "      <td>MO</td>\n",
       "      <td>rep</td>\n",
       "      <td>1</td>\n",
       "      <td>auctnr1</td>\n",
       "      <td>21572351</td>\n",
       "    </tr>\n",
       "    <tr>\n",
       "      <th>1</th>\n",
       "      <td>0</td>\n",
       "      <td>Democrat</td>\n",
       "      <td>NaN</td>\n",
       "      <td>NaN</td>\n",
       "      <td>0</td>\n",
       "      <td>HispanicCaucus</td>\n",
       "      <td>33530012</td>\n",
       "    </tr>\n",
       "    <tr>\n",
       "      <th>2</th>\n",
       "      <td>0</td>\n",
       "      <td>Republican</td>\n",
       "      <td>TX</td>\n",
       "      <td>rep</td>\n",
       "      <td>1</td>\n",
       "      <td>chiproytx</td>\n",
       "      <td>1257667158</td>\n",
       "    </tr>\n",
       "    <tr>\n",
       "      <th>3</th>\n",
       "      <td>0</td>\n",
       "      <td>Democrat</td>\n",
       "      <td>MO</td>\n",
       "      <td>rep</td>\n",
       "      <td>0</td>\n",
       "      <td>LacyClayMO1</td>\n",
       "      <td>584912320</td>\n",
       "    </tr>\n",
       "    <tr>\n",
       "      <th>4</th>\n",
       "      <td>0</td>\n",
       "      <td>Republican</td>\n",
       "      <td>NaN</td>\n",
       "      <td>NaN</td>\n",
       "      <td>1</td>\n",
       "      <td>RepCloakroom</td>\n",
       "      <td>1137600571</td>\n",
       "    </tr>\n",
       "  </tbody>\n",
       "</table>\n",
       "</div>"
      ],
      "text/plain": [
       "   is_official       party state type  label     screen_name     user_id\n",
       "0            0  Republican    MO  rep      1         auctnr1    21572351\n",
       "1            0    Democrat   NaN  NaN      0  HispanicCaucus    33530012\n",
       "2            0  Republican    TX  rep      1       chiproytx  1257667158\n",
       "3            0    Democrat    MO  rep      0     LacyClayMO1   584912320\n",
       "4            0  Republican   NaN  NaN      1    RepCloakroom  1137600571"
      ]
     },
     "execution_count": 34,
     "metadata": {},
     "output_type": "execute_result"
    }
   ],
   "source": [
    "all_metadata.head()"
   ]
  },
  {
   "cell_type": "code",
   "execution_count": 35,
   "metadata": {},
   "outputs": [
    {
     "data": {
      "text/plain": [
       "<sqlalchemy.engine.result.ResultProxy at 0x1036b52d0>"
      ]
     },
     "execution_count": 35,
     "metadata": {},
     "output_type": "execute_result"
    }
   ],
   "source": [
    "# write the users table\n",
    "engine.execute(\n",
    "    \"CREATE TABLE IF NOT EXISTS users(user_id TEXT PRIMARY KEY, screen_name TEXT, state TEXT, type TEXT, party TEXT, label INT, is_official TEXT)\"\n",
    ")"
   ]
  },
  {
   "cell_type": "code",
   "execution_count": 37,
   "metadata": {},
   "outputs": [],
   "source": [
    "all_metadata.to_sql(\"users\",\n",
    "                    con=engine,\n",
    "                   index=False,\n",
    "                   index_label=\"user_id\",\n",
    "                   if_exists=\"replace\")"
   ]
  },
  {
   "cell_type": "code",
   "execution_count": null,
   "metadata": {},
   "outputs": [],
   "source": []
  }
 ],
 "metadata": {
  "kernelspec": {
   "display_name": "Python 3",
   "language": "python",
   "name": "python3"
  },
  "language_info": {
   "codemirror_mode": {
    "name": "ipython",
    "version": 3
   },
   "file_extension": ".py",
   "mimetype": "text/x-python",
   "name": "python",
   "nbconvert_exporter": "python",
   "pygments_lexer": "ipython3",
   "version": "3.7.7"
  }
 },
 "nbformat": 4,
 "nbformat_minor": 2
}
